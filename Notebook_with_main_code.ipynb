{
 "cells": [
  {
   "cell_type": "markdown",
   "id": "7dd15927",
   "metadata": {},
   "source": [
    "# Assessment for the Position of Data Scientist Trainee"
   ]
  },
  {
   "cell_type": "markdown",
   "id": "0c57436c",
   "metadata": {},
   "source": [
    "## by ETH Smart Contract Tech Ecosystem Limited"
   ]
  },
  {
   "cell_type": "markdown",
   "id": "f8835b7f",
   "metadata": {},
   "source": [
    "We has been provided with a Mentz, Decker, GmbH & Co. KG's report on containership fixture which was done on 26th March 2021. This report describes data on the containers and their main characteristics such as TEU, speed, sailing schedules and etc.  \n",
    "  \n",
    "Apart from pdf version of this report, assessors gave us initial stages of its processing which consisted of dividing input data into separate features and converting numerical properties into integer data type."
   ]
  },
  {
   "cell_type": "markdown",
   "id": "fcd04a4d",
   "metadata": {},
   "source": [
    "Therefore, I was instructed to continue reformating this data as a part of Data Scientist's basic responsibility. "
   ]
  },
  {
   "cell_type": "code",
   "execution_count": 2,
   "id": "be634f2b",
   "metadata": {},
   "outputs": [],
   "source": [
    "# importing all the necessary libraries for our analysis:\n",
    "\n",
    "import pandas as pd"
   ]
  },
  {
   "cell_type": "code",
   "execution_count": 3,
   "id": "b3f4e142",
   "metadata": {},
   "outputs": [],
   "source": [
    "# importing the last sheet of a given excel file, \n",
    "# to continue with its reformating\n",
    "\n",
    "last_sheet = pd.ExcelFile('C:\\\\Users\\\\Admin\\\\Downloads\\\\MentzDecker.xlsx')\n",
    "data = pd.read_excel(last_sheet, 'step2')"
   ]
  },
  {
   "cell_type": "code",
   "execution_count": 4,
   "id": "15bc1011",
   "metadata": {},
   "outputs": [
    {
     "name": "stdout",
     "output_type": "stream",
     "text": [
      "<class 'pandas.core.frame.DataFrame'>\n",
      "RangeIndex: 42 entries, 0 to 41\n",
      "Data columns (total 21 columns):\n",
      " #   Column           Non-Null Count  Dtype  \n",
      "---  ------           --------------  -----  \n",
      " 0   Name             42 non-null     object \n",
      " 1   IMO              0 non-null      float64\n",
      " 2   Year             41 non-null     float64\n",
      " 3   TEU              42 non-null     int64  \n",
      " 4   TEU@14           42 non-null     int64  \n",
      " 5   DWT              42 non-null     int64  \n",
      " 6   Type             42 non-null     object \n",
      " 7   Unnamed: 7       0 non-null      float64\n",
      " 8   Speed            42 non-null     object \n",
      " 9   Note             41 non-null     object \n",
      " 10  opt              20 non-null     object \n",
      " 11  Min              42 non-null     int64  \n",
      " 12  Max              19 non-null     float64\n",
      " 13  unit             42 non-null     object \n",
      " 14  trade            42 non-null     object \n",
      " 15  acct             42 non-null     object \n",
      " 16  ccy              42 non-null     object \n",
      " 17  value            42 non-null     int64  \n",
      " 18  value note       42 non-null     object \n",
      " 19  date             42 non-null     object \n",
      " 20  additional note  5 non-null      object \n",
      "dtypes: float64(4), int64(5), object(12)\n",
      "memory usage: 7.0+ KB\n"
     ]
    },
    {
     "data": {
      "text/html": [
       "<div>\n",
       "<style scoped>\n",
       "    .dataframe tbody tr th:only-of-type {\n",
       "        vertical-align: middle;\n",
       "    }\n",
       "\n",
       "    .dataframe tbody tr th {\n",
       "        vertical-align: top;\n",
       "    }\n",
       "\n",
       "    .dataframe thead th {\n",
       "        text-align: right;\n",
       "    }\n",
       "</style>\n",
       "<table border=\"1\" class=\"dataframe\">\n",
       "  <thead>\n",
       "    <tr style=\"text-align: right;\">\n",
       "      <th></th>\n",
       "      <th>Name</th>\n",
       "      <th>IMO</th>\n",
       "      <th>Year</th>\n",
       "      <th>TEU</th>\n",
       "      <th>TEU@14</th>\n",
       "      <th>DWT</th>\n",
       "      <th>Type</th>\n",
       "      <th>Unnamed: 7</th>\n",
       "      <th>Speed</th>\n",
       "      <th>Note</th>\n",
       "      <th>...</th>\n",
       "      <th>Min</th>\n",
       "      <th>Max</th>\n",
       "      <th>unit</th>\n",
       "      <th>trade</th>\n",
       "      <th>acct</th>\n",
       "      <th>ccy</th>\n",
       "      <th>value</th>\n",
       "      <th>value note</th>\n",
       "      <th>date</th>\n",
       "      <th>additional note</th>\n",
       "    </tr>\n",
       "  </thead>\n",
       "  <tbody>\n",
       "    <tr>\n",
       "      <th>0</th>\n",
       "      <td>Seamax Niantic</td>\n",
       "      <td>NaN</td>\n",
       "      <td>2014.0</td>\n",
       "      <td>9034</td>\n",
       "      <td>7400</td>\n",
       "      <td>111890</td>\n",
       "      <td>GLCE</td>\n",
       "      <td>NaN</td>\n",
       "      <td>22kn</td>\n",
       "      <td>124.9ts</td>\n",
       "      <td>...</td>\n",
       "      <td>60</td>\n",
       "      <td>NaN</td>\n",
       "      <td>mos</td>\n",
       "      <td>TBA TRADE</td>\n",
       "      <td>ZIM</td>\n",
       "      <td>USD</td>\n",
       "      <td>55000</td>\n",
       "      <td>about/day</td>\n",
       "      <td>2021-05-01 00:00:00</td>\n",
       "      <td>NaN</td>\n",
       "    </tr>\n",
       "    <tr>\n",
       "      <th>1</th>\n",
       "      <td>Northern Jamboree</td>\n",
       "      <td>NaN</td>\n",
       "      <td>2010.0</td>\n",
       "      <td>8814</td>\n",
       "      <td>6923</td>\n",
       "      <td>108828</td>\n",
       "      <td>GLCE</td>\n",
       "      <td>NaN</td>\n",
       "      <td>24kn</td>\n",
       "      <td>217ts</td>\n",
       "      <td>...</td>\n",
       "      <td>48</td>\n",
       "      <td>NaN</td>\n",
       "      <td>mos</td>\n",
       "      <td>FAR EAST/W.C. NORTH AMERICA TRADE</td>\n",
       "      <td>MSC</td>\n",
       "      <td>USD</td>\n",
       "      <td>45000</td>\n",
       "      <td>about/day</td>\n",
       "      <td>2021-06-01 00:00:00</td>\n",
       "      <td>NaN</td>\n",
       "    </tr>\n",
       "    <tr>\n",
       "      <th>2</th>\n",
       "      <td>Northern Javelin</td>\n",
       "      <td>NaN</td>\n",
       "      <td>2009.0</td>\n",
       "      <td>8814</td>\n",
       "      <td>6923</td>\n",
       "      <td>108677</td>\n",
       "      <td>GLCE</td>\n",
       "      <td>NaN</td>\n",
       "      <td>25.4kn</td>\n",
       "      <td>249ts</td>\n",
       "      <td>...</td>\n",
       "      <td>48</td>\n",
       "      <td>NaN</td>\n",
       "      <td>mos</td>\n",
       "      <td>CONTINENT/FAR EAST/AUSTRALIA/NEW ZEALAND TRADE</td>\n",
       "      <td>MSC</td>\n",
       "      <td>USD</td>\n",
       "      <td>45000</td>\n",
       "      <td>about/day</td>\n",
       "      <td>2021-05-01 00:00:00</td>\n",
       "      <td>NaN</td>\n",
       "    </tr>\n",
       "    <tr>\n",
       "      <th>3</th>\n",
       "      <td>Northern Jubilee</td>\n",
       "      <td>NaN</td>\n",
       "      <td>2009.0</td>\n",
       "      <td>8814</td>\n",
       "      <td>6923</td>\n",
       "      <td>108500</td>\n",
       "      <td>GLCE</td>\n",
       "      <td>NaN</td>\n",
       "      <td>23kn</td>\n",
       "      <td>192ts</td>\n",
       "      <td>...</td>\n",
       "      <td>48</td>\n",
       "      <td>NaN</td>\n",
       "      <td>mos</td>\n",
       "      <td>EUROPE/MIDDLE EAST/INDIAN OCEAN TRADE</td>\n",
       "      <td>MSC</td>\n",
       "      <td>USD</td>\n",
       "      <td>45000</td>\n",
       "      <td>about/day</td>\n",
       "      <td>2021-08-01 00:00:00</td>\n",
       "      <td>NaN</td>\n",
       "    </tr>\n",
       "    <tr>\n",
       "      <th>4</th>\n",
       "      <td>MSC Alessia</td>\n",
       "      <td>NaN</td>\n",
       "      <td>2001.0</td>\n",
       "      <td>6732</td>\n",
       "      <td>5150</td>\n",
       "      <td>84920</td>\n",
       "      <td>GLCE</td>\n",
       "      <td>NaN</td>\n",
       "      <td>25.5kn</td>\n",
       "      <td>230ts 380cst</td>\n",
       "      <td>...</td>\n",
       "      <td>36</td>\n",
       "      <td>NaN</td>\n",
       "      <td>mos</td>\n",
       "      <td>MIDDLE EAST/E. AFRICA/S. AFRICA TRADE</td>\n",
       "      <td>MSC</td>\n",
       "      <td>USD</td>\n",
       "      <td>33000</td>\n",
       "      <td>/day average</td>\n",
       "      <td>2021-05-01 00:00:00</td>\n",
       "      <td>NaN</td>\n",
       "    </tr>\n",
       "  </tbody>\n",
       "</table>\n",
       "<p>5 rows × 21 columns</p>\n",
       "</div>"
      ],
      "text/plain": [
       "                Name  IMO    Year   TEU  TEU@14     DWT  Type  Unnamed: 7  \\\n",
       "0     Seamax Niantic  NaN  2014.0  9034    7400  111890  GLCE         NaN   \n",
       "1  Northern Jamboree  NaN  2010.0  8814    6923  108828  GLCE         NaN   \n",
       "2   Northern Javelin  NaN  2009.0  8814    6923  108677  GLCE         NaN   \n",
       "3   Northern Jubilee  NaN  2009.0  8814    6923  108500  GLCE         NaN   \n",
       "4        MSC Alessia  NaN  2001.0  6732    5150   84920  GLCE         NaN   \n",
       "\n",
       "    Speed          Note  ... Min  Max  unit  \\\n",
       "0    22kn       124.9ts  ...  60  NaN   mos   \n",
       "1    24kn         217ts  ...  48  NaN   mos   \n",
       "2  25.4kn         249ts  ...  48  NaN   mos   \n",
       "3    23kn         192ts  ...  48  NaN   mos   \n",
       "4  25.5kn  230ts 380cst  ...  36  NaN   mos   \n",
       "\n",
       "                                            trade acct  ccy  value  \\\n",
       "0                                       TBA TRADE  ZIM  USD  55000   \n",
       "1               FAR EAST/W.C. NORTH AMERICA TRADE  MSC  USD  45000   \n",
       "2  CONTINENT/FAR EAST/AUSTRALIA/NEW ZEALAND TRADE  MSC  USD  45000   \n",
       "3           EUROPE/MIDDLE EAST/INDIAN OCEAN TRADE  MSC  USD  45000   \n",
       "4           MIDDLE EAST/E. AFRICA/S. AFRICA TRADE  MSC  USD  33000   \n",
       "\n",
       "     value note                 date additional note  \n",
       "0     about/day  2021-05-01 00:00:00             NaN  \n",
       "1     about/day  2021-06-01 00:00:00             NaN  \n",
       "2     about/day  2021-05-01 00:00:00             NaN  \n",
       "3     about/day  2021-08-01 00:00:00             NaN  \n",
       "4  /day average  2021-05-01 00:00:00             NaN  \n",
       "\n",
       "[5 rows x 21 columns]"
      ]
     },
     "execution_count": 4,
     "metadata": {},
     "output_type": "execute_result"
    }
   ],
   "source": [
    "# to general exploration of a dataset:\n",
    "\n",
    "data.info()\n",
    "data.head()"
   ]
  },
  {
   "cell_type": "markdown",
   "id": "e44adad9",
   "metadata": {},
   "source": [
    "From the above table, we can see that our data consist of 42 data entries and 20 features. While 12 of those features are represented as *object* data type, the others are given in numerical data types. \n",
    "\n",
    "Most of the columns are complete (contains all 42 data entries), but still there are several features containing NULL values.\n",
    "\n",
    "Also, we could observe that there are two columns which completely composed of NULL values. These are *IMO* and *Unnamed: 7*. So, we could see that IMO numbers of ships are not given for this data, therefore, these columns might be dropped."
   ]
  },
  {
   "cell_type": "markdown",
   "id": "4a4962e7",
   "metadata": {},
   "source": [
    "### Dropping columns without any useful data:"
   ]
  },
  {
   "cell_type": "code",
   "execution_count": 5,
   "id": "03cb949d",
   "metadata": {},
   "outputs": [],
   "source": [
    "# dropping of the \"IMO\" and \"Unnamed::7\" columns:\n",
    "\n",
    "data.drop([\"IMO\", \"Unnamed: 7\"], inplace=True, axis=1)"
   ]
  },
  {
   "cell_type": "markdown",
   "id": "65635fff",
   "metadata": {},
   "source": [
    "---"
   ]
  },
  {
   "cell_type": "markdown",
   "id": "2d47be49",
   "metadata": {},
   "source": [
    "### Renaming column names:"
   ]
  },
  {
   "cell_type": "markdown",
   "id": "ebbba495",
   "metadata": {},
   "source": [
    "After dropping unnecessary columns, we can rename column names to make it more intuitive for understanding.\n",
    "Also, I believe that it would be better to standartize them into one format which is a **snakecase** in this assessment."
   ]
  },
  {
   "cell_type": "code",
   "execution_count": 6,
   "id": "b896c5f1",
   "metadata": {},
   "outputs": [],
   "source": [
    "# renaming column names:\n",
    "\n",
    "data.rename(columns={'Name': 'ship_name',\n",
    "                     'Year': 'ship_production_year',\n",
    "                     'Type': 'type_of_ship',\n",
    "                     'Speed': 'speed(in kn)',\n",
    "                     'Note': 'speed_note',\n",
    "                     'opt': 'period_specification',\n",
    "                     'Min': 'min_reaching_time',\n",
    "                     'Max': 'max_reaching_time',\n",
    "                     'unit': 'unit_of_period',\n",
    "                     'trade': 'name_of_trade',\n",
    "                     'acct': 'account_name',\n",
    "                     'ccy': 'currency',\n",
    "                     'value': 'amount_of_money',\n",
    "                     'value note': 'note_on_money',\n",
    "                     'date': 'scheduled_date',\n",
    "                     'additional note': 'additional_notes'}, inplace=True)"
   ]
  },
  {
   "cell_type": "code",
   "execution_count": 7,
   "id": "8a73cd92",
   "metadata": {
    "scrolled": true
   },
   "outputs": [
    {
     "data": {
      "text/plain": [
       "Index(['ship_name', 'ship_production_year', 'TEU', 'TEU@14', 'DWT',\n",
       "       'type_of_ship', 'speed(in kn)', 'speed_note', 'period_specification',\n",
       "       'min_reaching_time', 'max_reaching_time', 'unit_of_period',\n",
       "       'name_of_trade', 'account_name', 'currency', 'amount_of_money',\n",
       "       'note_on_money', 'scheduled_date', 'additional_notes'],\n",
       "      dtype='object')"
      ]
     },
     "execution_count": 7,
     "metadata": {},
     "output_type": "execute_result"
    }
   ],
   "source": [
    "data.columns"
   ]
  },
  {
   "cell_type": "markdown",
   "id": "80b59049",
   "metadata": {},
   "source": [
    "---"
   ]
  },
  {
   "cell_type": "markdown",
   "id": "67f00bed",
   "metadata": {},
   "source": [
    "### Ship_production_year column:"
   ]
  },
  {
   "cell_type": "markdown",
   "id": "cedf66d4",
   "metadata": {},
   "source": [
    "After renaming of all remaining columns, we can go through each column and define any issue or standartization errors that should be fixed.  \n",
    "  \n",
    "For *ship_production_year* column, I believe that it might be better to apply **integer** data type as years are usually not a rational numbers. Also, we filled a missing value with **NaN**."
   ]
  },
  {
   "cell_type": "code",
   "execution_count": 8,
   "id": "4c4cea99",
   "metadata": {},
   "outputs": [],
   "source": [
    "# filling missing values of a column and converting it into integer data type:\n",
    "\n",
    "data[\"ship_production_year\"] = data[\"ship_production_year\"].fillna(0)\n",
    "data[\"ship_production_year\"] = data[\"ship_production_year\"].astype(int)\n",
    "data.loc[data.loc[:, \"ship_production_year\"]==0, \"ship_production_year\"] = None"
   ]
  },
  {
   "cell_type": "markdown",
   "id": "01b9f096",
   "metadata": {},
   "source": [
    "---"
   ]
  },
  {
   "cell_type": "markdown",
   "id": "23e754f0",
   "metadata": {},
   "source": [
    "### TEU and DWT columns:"
   ]
  },
  {
   "cell_type": "markdown",
   "id": "53fbd490",
   "metadata": {},
   "source": [
    "According from my investigation, TEU represents how many 20-foot containers could be carried by a given ship, while DWT stands for the maximum deadweight of the ship including container TEU, people, reserves and etc.  \n",
    "  \n",
    "Therefore, it appears obvious that DWT for a ship must be more than TEU of a ship. However, we need to double check it in our report to avoid wrong data inputs."
   ]
  },
  {
   "cell_type": "code",
   "execution_count": 9,
   "id": "f873ca2f",
   "metadata": {},
   "outputs": [],
   "source": [
    "# for each raw in dataframe compares its TEU with DWT. If miscorrelation is observed, \"Wrong input data\" warning is raised\n",
    "\n",
    "for i in range(data.shape[0]):\n",
    "    if data.iloc[i, 2] >= data.iloc[i, 4]:\n",
    "        print(\"Wrong data input for ship: \", data.iloc[i, 0])       ### warning message is printed"
   ]
  },
  {
   "cell_type": "markdown",
   "id": "7285c386",
   "metadata": {},
   "source": [
    "As we run the above code, we can confirm that there are no wrong input data in the given report. I believe that this type of checking is extremely crucial during data reformation process."
   ]
  },
  {
   "cell_type": "markdown",
   "id": "6d089187",
   "metadata": {},
   "source": [
    "---"
   ]
  },
  {
   "cell_type": "markdown",
   "id": "4dc7f7eb",
   "metadata": {},
   "source": [
    "### Speed column:"
   ]
  },
  {
   "cell_type": "markdown",
   "id": "80f88cfa",
   "metadata": {},
   "source": [
    "Next, we can standartize the *speed(in kn)* column into numerical data type. This step will facilitate the report's analysis as we can apply mathematical equations on numerical data."
   ]
  },
  {
   "cell_type": "code",
   "execution_count": 10,
   "id": "3b5e4e85",
   "metadata": {},
   "outputs": [],
   "source": [
    "# converting 'speed' column into numerical data:\n",
    "\n",
    "data[\"speed(in kn)\"] = data[\"speed(in kn)\"].str.replace('kn', '').astype(float)"
   ]
  },
  {
   "cell_type": "markdown",
   "id": "4ac99180",
   "metadata": {},
   "source": [
    "---"
   ]
  },
  {
   "cell_type": "markdown",
   "id": "7186f56f",
   "metadata": {},
   "source": [
    "### Speed_note column:"
   ]
  },
  {
   "cell_type": "markdown",
   "id": "a4190c00",
   "metadata": {},
   "source": [
    "Firstly, we could observe that this column contains data with different units and this should be converted into a common one. \n",
    "\n",
    "* For example, while most of the *speed_note* column inputs are given with ts and cst units, there is a *Northern Promotion* ship which is using **ifo** as its unit. Therefore, this should be converted into common unit of measurement."
   ]
  },
  {
   "cell_type": "markdown",
   "id": "3f4d7636",
   "metadata": {},
   "source": [
    "(I do not know the relationship between *ifo* and *cst or ts*, but I would like to show that I am capable to modify this kind of mismatches in data. Therefore, I will be directly converting *ifo* into *cst*, even though it is incorrect.)"
   ]
  },
  {
   "cell_type": "code",
   "execution_count": 11,
   "id": "739526de",
   "metadata": {},
   "outputs": [],
   "source": [
    "# converted ifo units into cst units (also, a correct formula could be applied):\n",
    "\n",
    "data.loc[data['speed_note'].str.contains('ifo', na=False), ['speed_note']] = data[data['speed_note'].str.contains('ifo', na=False)].speed_note.str.replace('ifo', '0cst')"
   ]
  },
  {
   "cell_type": "markdown",
   "id": "035ef905",
   "metadata": {},
   "source": [
    "---"
   ]
  },
  {
   "cell_type": "markdown",
   "id": "cab9634f",
   "metadata": {},
   "source": [
    "This column still need modifications as it consists of both **numbers** and thier **units** like *9ts* or *380cst*. However, as it is defined with object data type, we cannot do any mathematical equations during the report analysis. Therefore, I believe that it should be modified in a way that numerical alterations can be applied. "
   ]
  },
  {
   "cell_type": "markdown",
   "id": "eec1af8e",
   "metadata": {},
   "source": [
    "We could also observe that several raws contain additional specifications in the *speed_note* column. \n",
    "\n",
    "* For example, *TRF Partici* ship has a speed_note of 126.3ts 380cst+5ts 380cst. Therefore, we can divide this column into two parts as **speed_note_main** and **speed_note_additional** to specify the main part (126.3ts 380cst) and additional part (5ts 380cst)."
   ]
  },
  {
   "cell_type": "code",
   "execution_count": 12,
   "id": "d3a2696d",
   "metadata": {},
   "outputs": [],
   "source": [
    "# spliting 'speed_note' column into two parts: main and additional\n",
    "\n",
    "data[['speed_note_main', 'speed_note_additional']] = data['speed_note'].str.split('+', expand=True)"
   ]
  },
  {
   "cell_type": "markdown",
   "id": "729d39ab",
   "metadata": {},
   "source": [
    "This step seems still not enough as columns are still in object data type (contains words). Therefore, we can split them further into **ts containing** and **cst containing** parts. \n",
    "* For the above example, the *speed_note_main* column can be further splitted into another two columns: **speed_note_main (ts)** and **speed_note_main (cst)**. Then, we can convert this columns into numerical data type which supports mathematical equations.  \n",
    "  \n",
    "The same procedure could be applied for *speed_note_additional* column."
   ]
  },
  {
   "cell_type": "code",
   "execution_count": 13,
   "id": "873b16f1",
   "metadata": {},
   "outputs": [],
   "source": [
    "# further splitting 'speed_note_main' and 'speed_note_additional' into ts containing and cst containing parts:\n",
    "\n",
    "data[['speed_note_main (ts)', 'speed_note_main (cst)']] = data['speed_note_main'].str.split(expand=True)\n",
    "data[['speed_note_additional (ts)', 'speed_note_additional (cst)']] = data['speed_note_additional'].str.split(expand=True)\n",
    "\n",
    "data['speed_note_main (ts)'] = data['speed_note_main (ts)'].str.replace('ts', '').astype(float)\n",
    "data['speed_note_main (cst)'] = data['speed_note_main (cst)'].str.replace('cst', '').astype(float)\n",
    "data['speed_note_additional (ts)'] = data['speed_note_additional (ts)'].str.replace('ts', '').astype(float)\n",
    "data['speed_note_additional (cst)'] = data['speed_note_additional (cst)'].str.replace('cst', '').astype(float)"
   ]
  },
  {
   "cell_type": "code",
   "execution_count": 14,
   "id": "d029cc84",
   "metadata": {},
   "outputs": [
    {
     "data": {
      "text/html": [
       "<div>\n",
       "<style scoped>\n",
       "    .dataframe tbody tr th:only-of-type {\n",
       "        vertical-align: middle;\n",
       "    }\n",
       "\n",
       "    .dataframe tbody tr th {\n",
       "        vertical-align: top;\n",
       "    }\n",
       "\n",
       "    .dataframe thead th {\n",
       "        text-align: right;\n",
       "    }\n",
       "</style>\n",
       "<table border=\"1\" class=\"dataframe\">\n",
       "  <thead>\n",
       "    <tr style=\"text-align: right;\">\n",
       "      <th></th>\n",
       "      <th>ship_name</th>\n",
       "      <th>ship_production_year</th>\n",
       "      <th>TEU</th>\n",
       "      <th>TEU@14</th>\n",
       "      <th>DWT</th>\n",
       "      <th>type_of_ship</th>\n",
       "      <th>speed(in kn)</th>\n",
       "      <th>speed_note</th>\n",
       "      <th>speed_note_main (ts)</th>\n",
       "      <th>speed_note_main (cst)</th>\n",
       "      <th>...</th>\n",
       "      <th>min_reaching_time</th>\n",
       "      <th>max_reaching_time</th>\n",
       "      <th>unit_of_period</th>\n",
       "      <th>name_of_trade</th>\n",
       "      <th>account_name</th>\n",
       "      <th>currency</th>\n",
       "      <th>amount_of_money</th>\n",
       "      <th>note_on_money</th>\n",
       "      <th>scheduled_date</th>\n",
       "      <th>additional_notes</th>\n",
       "    </tr>\n",
       "  </thead>\n",
       "  <tbody>\n",
       "    <tr>\n",
       "      <th>0</th>\n",
       "      <td>Seamax Niantic</td>\n",
       "      <td>2014.0</td>\n",
       "      <td>9034</td>\n",
       "      <td>7400</td>\n",
       "      <td>111890</td>\n",
       "      <td>GLCE</td>\n",
       "      <td>22.0</td>\n",
       "      <td>124.9ts</td>\n",
       "      <td>124.9</td>\n",
       "      <td>NaN</td>\n",
       "      <td>...</td>\n",
       "      <td>60</td>\n",
       "      <td>NaN</td>\n",
       "      <td>mos</td>\n",
       "      <td>TBA TRADE</td>\n",
       "      <td>ZIM</td>\n",
       "      <td>USD</td>\n",
       "      <td>55000</td>\n",
       "      <td>about/day</td>\n",
       "      <td>2021-05-01 00:00:00</td>\n",
       "      <td>NaN</td>\n",
       "    </tr>\n",
       "    <tr>\n",
       "      <th>1</th>\n",
       "      <td>Northern Jamboree</td>\n",
       "      <td>2010.0</td>\n",
       "      <td>8814</td>\n",
       "      <td>6923</td>\n",
       "      <td>108828</td>\n",
       "      <td>GLCE</td>\n",
       "      <td>24.0</td>\n",
       "      <td>217ts</td>\n",
       "      <td>217.0</td>\n",
       "      <td>NaN</td>\n",
       "      <td>...</td>\n",
       "      <td>48</td>\n",
       "      <td>NaN</td>\n",
       "      <td>mos</td>\n",
       "      <td>FAR EAST/W.C. NORTH AMERICA TRADE</td>\n",
       "      <td>MSC</td>\n",
       "      <td>USD</td>\n",
       "      <td>45000</td>\n",
       "      <td>about/day</td>\n",
       "      <td>2021-06-01 00:00:00</td>\n",
       "      <td>NaN</td>\n",
       "    </tr>\n",
       "    <tr>\n",
       "      <th>2</th>\n",
       "      <td>Northern Javelin</td>\n",
       "      <td>2009.0</td>\n",
       "      <td>8814</td>\n",
       "      <td>6923</td>\n",
       "      <td>108677</td>\n",
       "      <td>GLCE</td>\n",
       "      <td>25.4</td>\n",
       "      <td>249ts</td>\n",
       "      <td>249.0</td>\n",
       "      <td>NaN</td>\n",
       "      <td>...</td>\n",
       "      <td>48</td>\n",
       "      <td>NaN</td>\n",
       "      <td>mos</td>\n",
       "      <td>CONTINENT/FAR EAST/AUSTRALIA/NEW ZEALAND TRADE</td>\n",
       "      <td>MSC</td>\n",
       "      <td>USD</td>\n",
       "      <td>45000</td>\n",
       "      <td>about/day</td>\n",
       "      <td>2021-05-01 00:00:00</td>\n",
       "      <td>NaN</td>\n",
       "    </tr>\n",
       "    <tr>\n",
       "      <th>3</th>\n",
       "      <td>Northern Jubilee</td>\n",
       "      <td>2009.0</td>\n",
       "      <td>8814</td>\n",
       "      <td>6923</td>\n",
       "      <td>108500</td>\n",
       "      <td>GLCE</td>\n",
       "      <td>23.0</td>\n",
       "      <td>192ts</td>\n",
       "      <td>192.0</td>\n",
       "      <td>NaN</td>\n",
       "      <td>...</td>\n",
       "      <td>48</td>\n",
       "      <td>NaN</td>\n",
       "      <td>mos</td>\n",
       "      <td>EUROPE/MIDDLE EAST/INDIAN OCEAN TRADE</td>\n",
       "      <td>MSC</td>\n",
       "      <td>USD</td>\n",
       "      <td>45000</td>\n",
       "      <td>about/day</td>\n",
       "      <td>2021-08-01 00:00:00</td>\n",
       "      <td>NaN</td>\n",
       "    </tr>\n",
       "    <tr>\n",
       "      <th>4</th>\n",
       "      <td>MSC Alessia</td>\n",
       "      <td>2001.0</td>\n",
       "      <td>6732</td>\n",
       "      <td>5150</td>\n",
       "      <td>84920</td>\n",
       "      <td>GLCE</td>\n",
       "      <td>25.5</td>\n",
       "      <td>230ts 380cst</td>\n",
       "      <td>230.0</td>\n",
       "      <td>380.0</td>\n",
       "      <td>...</td>\n",
       "      <td>36</td>\n",
       "      <td>NaN</td>\n",
       "      <td>mos</td>\n",
       "      <td>MIDDLE EAST/E. AFRICA/S. AFRICA TRADE</td>\n",
       "      <td>MSC</td>\n",
       "      <td>USD</td>\n",
       "      <td>33000</td>\n",
       "      <td>/day average</td>\n",
       "      <td>2021-05-01 00:00:00</td>\n",
       "      <td>NaN</td>\n",
       "    </tr>\n",
       "  </tbody>\n",
       "</table>\n",
       "<p>5 rows × 23 columns</p>\n",
       "</div>"
      ],
      "text/plain": [
       "           ship_name  ship_production_year   TEU  TEU@14     DWT type_of_ship  \\\n",
       "0     Seamax Niantic                2014.0  9034    7400  111890         GLCE   \n",
       "1  Northern Jamboree                2010.0  8814    6923  108828         GLCE   \n",
       "2   Northern Javelin                2009.0  8814    6923  108677         GLCE   \n",
       "3   Northern Jubilee                2009.0  8814    6923  108500         GLCE   \n",
       "4        MSC Alessia                2001.0  6732    5150   84920         GLCE   \n",
       "\n",
       "   speed(in kn)    speed_note  speed_note_main (ts)  speed_note_main (cst)  \\\n",
       "0          22.0       124.9ts                 124.9                    NaN   \n",
       "1          24.0         217ts                 217.0                    NaN   \n",
       "2          25.4         249ts                 249.0                    NaN   \n",
       "3          23.0         192ts                 192.0                    NaN   \n",
       "4          25.5  230ts 380cst                 230.0                  380.0   \n",
       "\n",
       "   ...  min_reaching_time  max_reaching_time unit_of_period  \\\n",
       "0  ...                 60                NaN            mos   \n",
       "1  ...                 48                NaN            mos   \n",
       "2  ...                 48                NaN            mos   \n",
       "3  ...                 48                NaN            mos   \n",
       "4  ...                 36                NaN            mos   \n",
       "\n",
       "                                    name_of_trade  account_name currency  \\\n",
       "0                                       TBA TRADE           ZIM      USD   \n",
       "1               FAR EAST/W.C. NORTH AMERICA TRADE           MSC      USD   \n",
       "2  CONTINENT/FAR EAST/AUSTRALIA/NEW ZEALAND TRADE           MSC      USD   \n",
       "3           EUROPE/MIDDLE EAST/INDIAN OCEAN TRADE           MSC      USD   \n",
       "4           MIDDLE EAST/E. AFRICA/S. AFRICA TRADE           MSC      USD   \n",
       "\n",
       "  amount_of_money note_on_money       scheduled_date  additional_notes  \n",
       "0           55000     about/day  2021-05-01 00:00:00               NaN  \n",
       "1           45000     about/day  2021-06-01 00:00:00               NaN  \n",
       "2           45000     about/day  2021-05-01 00:00:00               NaN  \n",
       "3           45000     about/day  2021-08-01 00:00:00               NaN  \n",
       "4           33000  /day average  2021-05-01 00:00:00               NaN  \n",
       "\n",
       "[5 rows x 23 columns]"
      ]
     },
     "execution_count": 14,
     "metadata": {},
     "output_type": "execute_result"
    }
   ],
   "source": [
    "# to move newly added columns into correct position and drop transitional columns:\n",
    "\n",
    "data.drop([\"speed_note_main\", \"speed_note_additional\"], inplace=True, axis=1)\n",
    "before_cols = ['ship_name', 'ship_production_year', 'TEU', 'TEU@14', 'DWT', 'type_of_ship', 'speed(in kn)', 'speed_note', 'speed_note_main (ts)', 'speed_note_main (cst)', 'speed_note_additional (ts)', 'speed_note_additional (cst)']\n",
    "cols = before_cols + [col for col in data if col not in before_cols]\n",
    "data = data[cols]\n",
    "data.head()"
   ]
  },
  {
   "cell_type": "markdown",
   "id": "a81b6834",
   "metadata": {},
   "source": [
    "Now, our newly added columns (speed_note_main and speed_note_additional) are positioned next to *speed_note* column by making it more intuitive for understanding.  \n",
    "  \n",
    "Also, now all *speed_note* column's values are converted into numerical type which allows calculations during analysis."
   ]
  },
  {
   "cell_type": "markdown",
   "id": "55a19b98",
   "metadata": {},
   "source": [
    "---"
   ]
  },
  {
   "cell_type": "markdown",
   "id": "5268b290",
   "metadata": {},
   "source": [
    "### Max and Min columns:"
   ]
  },
  {
   "cell_type": "markdown",
   "id": "529e97af",
   "metadata": {},
   "source": [
    "We can further observe that one row in the *Min* and *Max* columns are given in days, while the others are given in month. This should be standartized into month for all data entries to ease its analysis."
   ]
  },
  {
   "cell_type": "code",
   "execution_count": 15,
   "id": "650a1223",
   "metadata": {},
   "outputs": [
    {
     "data": {
      "text/plain": [
       "mos     41\n",
       "days     1\n",
       "Name: unit_of_period, dtype: int64"
      ]
     },
     "execution_count": 15,
     "metadata": {},
     "output_type": "execute_result"
    }
   ],
   "source": [
    "# to confirm that one row is represented in 'days':\n",
    "\n",
    "data[\"unit_of_period\"].value_counts()"
   ]
  },
  {
   "cell_type": "code",
   "execution_count": 16,
   "id": "993b16aa",
   "metadata": {},
   "outputs": [],
   "source": [
    "# convering this row into month:\n",
    "# (we assumed that: months = days / 30)\n",
    "\n",
    "data.loc[data.loc[:, \"unit_of_period\"]==\"days\", \"min_reaching_time\"] = data.loc[data.loc[:, \"unit_of_period\"]==\"days\", \"min_reaching_time\"] / 30\n",
    "data.loc[data.loc[:, \"unit_of_period\"]==\"days\", \"max_reaching_time\"] = data.loc[data.loc[:, \"unit_of_period\"]==\"days\", \"max_reaching_time\"] / 30\n",
    "data.loc[data.loc[:, \"unit_of_period\"]==\"days\", \"unit_of_period\"] = \"mos\""
   ]
  },
  {
   "cell_type": "markdown",
   "id": "5c4ef85a",
   "metadata": {},
   "source": [
    "---"
   ]
  },
  {
   "cell_type": "markdown",
   "id": "a504cd9b",
   "metadata": {},
   "source": [
    "### Unit column:"
   ]
  },
  {
   "cell_type": "markdown",
   "id": "185e1a0f",
   "metadata": {},
   "source": [
    "In my opinion, *mos* does not really intuitive in this column. As many people might be working with the same dataset, we should try to make it as much intuitive as possible. Therefore, I will modify all entries of this column in '*months*' as it consists of 42 entries only.\n",
    "\n",
    "(Remark: if our dataset consisted from several thousands of rows, it would be more efficient to specify that **mos = month** in a column name. For example, \"*unit_of_period (mos=month)*\")"
   ]
  },
  {
   "cell_type": "code",
   "execution_count": 17,
   "id": "90f488fb",
   "metadata": {},
   "outputs": [],
   "source": [
    "# modifying all mos into month\n",
    "\n",
    "data.loc[data['unit_of_period'].str.contains('mos', na=False), ['unit_of_period']] = 'months'"
   ]
  },
  {
   "cell_type": "markdown",
   "id": "0513f7e2",
   "metadata": {},
   "source": [
    "---"
   ]
  },
  {
   "cell_type": "markdown",
   "id": "f4f6000e",
   "metadata": {},
   "source": [
    "### Date column:"
   ]
  },
  {
   "cell_type": "markdown",
   "id": "22b0cda7",
   "metadata": {},
   "source": [
    "This column also contains non-standartized inputs such as '16th MAY/2021' or 'APR-MAY/2021'. However, I maintain that I would probably need further eloboration from other analyst teams in conversion of these inputs.\n",
    "* One method would be living as it is now. Because *scheduled_data* feature is considered important in shipping and changes on it might lead to misinformation and subsequently inaccurate analysis. "
   ]
  },
  {
   "cell_type": "markdown",
   "id": "ff5a139a",
   "metadata": {},
   "source": [
    "Therefore, I believe that communication skills are crucial for this role. Fortunately, I am confident on my communication skills and suitableness for this role."
   ]
  },
  {
   "cell_type": "markdown",
   "id": "d051c38f",
   "metadata": {},
   "source": [
    "---"
   ]
  },
  {
   "cell_type": "markdown",
   "id": "6756c718",
   "metadata": {},
   "source": [
    "## Final Results:"
   ]
  },
  {
   "cell_type": "markdown",
   "id": "ab1441aa",
   "metadata": {},
   "source": [
    "Let's finally observe the results our the above modifications."
   ]
  },
  {
   "cell_type": "code",
   "execution_count": 18,
   "id": "f5567e17",
   "metadata": {},
   "outputs": [
    {
     "name": "stdout",
     "output_type": "stream",
     "text": [
      "<class 'pandas.core.frame.DataFrame'>\n",
      "RangeIndex: 42 entries, 0 to 41\n",
      "Data columns (total 23 columns):\n",
      " #   Column                       Non-Null Count  Dtype  \n",
      "---  ------                       --------------  -----  \n",
      " 0   ship_name                    42 non-null     object \n",
      " 1   ship_production_year         41 non-null     float64\n",
      " 2   TEU                          42 non-null     int64  \n",
      " 3   TEU@14                       42 non-null     int64  \n",
      " 4   DWT                          42 non-null     int64  \n",
      " 5   type_of_ship                 42 non-null     object \n",
      " 6   speed(in kn)                 42 non-null     float64\n",
      " 7   speed_note                   41 non-null     object \n",
      " 8   speed_note_main (ts)         41 non-null     float64\n",
      " 9   speed_note_main (cst)        34 non-null     float64\n",
      " 10  speed_note_additional (ts)   7 non-null      float64\n",
      " 11  speed_note_additional (cst)  6 non-null      float64\n",
      " 12  period_specification         20 non-null     object \n",
      " 13  min_reaching_time            42 non-null     float64\n",
      " 14  max_reaching_time            19 non-null     float64\n",
      " 15  unit_of_period               42 non-null     object \n",
      " 16  name_of_trade                42 non-null     object \n",
      " 17  account_name                 42 non-null     object \n",
      " 18  currency                     42 non-null     object \n",
      " 19  amount_of_money              42 non-null     int64  \n",
      " 20  note_on_money                42 non-null     object \n",
      " 21  scheduled_date               42 non-null     object \n",
      " 22  additional_notes             5 non-null      object \n",
      "dtypes: float64(8), int64(4), object(11)\n",
      "memory usage: 7.7+ KB\n"
     ]
    },
    {
     "data": {
      "text/html": [
       "<div>\n",
       "<style scoped>\n",
       "    .dataframe tbody tr th:only-of-type {\n",
       "        vertical-align: middle;\n",
       "    }\n",
       "\n",
       "    .dataframe tbody tr th {\n",
       "        vertical-align: top;\n",
       "    }\n",
       "\n",
       "    .dataframe thead th {\n",
       "        text-align: right;\n",
       "    }\n",
       "</style>\n",
       "<table border=\"1\" class=\"dataframe\">\n",
       "  <thead>\n",
       "    <tr style=\"text-align: right;\">\n",
       "      <th></th>\n",
       "      <th>ship_name</th>\n",
       "      <th>ship_production_year</th>\n",
       "      <th>TEU</th>\n",
       "      <th>TEU@14</th>\n",
       "      <th>DWT</th>\n",
       "      <th>type_of_ship</th>\n",
       "      <th>speed(in kn)</th>\n",
       "      <th>speed_note</th>\n",
       "      <th>speed_note_main (ts)</th>\n",
       "      <th>speed_note_main (cst)</th>\n",
       "      <th>...</th>\n",
       "      <th>min_reaching_time</th>\n",
       "      <th>max_reaching_time</th>\n",
       "      <th>unit_of_period</th>\n",
       "      <th>name_of_trade</th>\n",
       "      <th>account_name</th>\n",
       "      <th>currency</th>\n",
       "      <th>amount_of_money</th>\n",
       "      <th>note_on_money</th>\n",
       "      <th>scheduled_date</th>\n",
       "      <th>additional_notes</th>\n",
       "    </tr>\n",
       "  </thead>\n",
       "  <tbody>\n",
       "    <tr>\n",
       "      <th>0</th>\n",
       "      <td>Seamax Niantic</td>\n",
       "      <td>2014.0</td>\n",
       "      <td>9034</td>\n",
       "      <td>7400</td>\n",
       "      <td>111890</td>\n",
       "      <td>GLCE</td>\n",
       "      <td>22.0</td>\n",
       "      <td>124.9ts</td>\n",
       "      <td>124.9</td>\n",
       "      <td>NaN</td>\n",
       "      <td>...</td>\n",
       "      <td>60.0</td>\n",
       "      <td>NaN</td>\n",
       "      <td>months</td>\n",
       "      <td>TBA TRADE</td>\n",
       "      <td>ZIM</td>\n",
       "      <td>USD</td>\n",
       "      <td>55000</td>\n",
       "      <td>about/day</td>\n",
       "      <td>2021-05-01 00:00:00</td>\n",
       "      <td>NaN</td>\n",
       "    </tr>\n",
       "    <tr>\n",
       "      <th>1</th>\n",
       "      <td>Northern Jamboree</td>\n",
       "      <td>2010.0</td>\n",
       "      <td>8814</td>\n",
       "      <td>6923</td>\n",
       "      <td>108828</td>\n",
       "      <td>GLCE</td>\n",
       "      <td>24.0</td>\n",
       "      <td>217ts</td>\n",
       "      <td>217.0</td>\n",
       "      <td>NaN</td>\n",
       "      <td>...</td>\n",
       "      <td>48.0</td>\n",
       "      <td>NaN</td>\n",
       "      <td>months</td>\n",
       "      <td>FAR EAST/W.C. NORTH AMERICA TRADE</td>\n",
       "      <td>MSC</td>\n",
       "      <td>USD</td>\n",
       "      <td>45000</td>\n",
       "      <td>about/day</td>\n",
       "      <td>2021-06-01 00:00:00</td>\n",
       "      <td>NaN</td>\n",
       "    </tr>\n",
       "    <tr>\n",
       "      <th>2</th>\n",
       "      <td>Northern Javelin</td>\n",
       "      <td>2009.0</td>\n",
       "      <td>8814</td>\n",
       "      <td>6923</td>\n",
       "      <td>108677</td>\n",
       "      <td>GLCE</td>\n",
       "      <td>25.4</td>\n",
       "      <td>249ts</td>\n",
       "      <td>249.0</td>\n",
       "      <td>NaN</td>\n",
       "      <td>...</td>\n",
       "      <td>48.0</td>\n",
       "      <td>NaN</td>\n",
       "      <td>months</td>\n",
       "      <td>CONTINENT/FAR EAST/AUSTRALIA/NEW ZEALAND TRADE</td>\n",
       "      <td>MSC</td>\n",
       "      <td>USD</td>\n",
       "      <td>45000</td>\n",
       "      <td>about/day</td>\n",
       "      <td>2021-05-01 00:00:00</td>\n",
       "      <td>NaN</td>\n",
       "    </tr>\n",
       "    <tr>\n",
       "      <th>3</th>\n",
       "      <td>Northern Jubilee</td>\n",
       "      <td>2009.0</td>\n",
       "      <td>8814</td>\n",
       "      <td>6923</td>\n",
       "      <td>108500</td>\n",
       "      <td>GLCE</td>\n",
       "      <td>23.0</td>\n",
       "      <td>192ts</td>\n",
       "      <td>192.0</td>\n",
       "      <td>NaN</td>\n",
       "      <td>...</td>\n",
       "      <td>48.0</td>\n",
       "      <td>NaN</td>\n",
       "      <td>months</td>\n",
       "      <td>EUROPE/MIDDLE EAST/INDIAN OCEAN TRADE</td>\n",
       "      <td>MSC</td>\n",
       "      <td>USD</td>\n",
       "      <td>45000</td>\n",
       "      <td>about/day</td>\n",
       "      <td>2021-08-01 00:00:00</td>\n",
       "      <td>NaN</td>\n",
       "    </tr>\n",
       "    <tr>\n",
       "      <th>4</th>\n",
       "      <td>MSC Alessia</td>\n",
       "      <td>2001.0</td>\n",
       "      <td>6732</td>\n",
       "      <td>5150</td>\n",
       "      <td>84920</td>\n",
       "      <td>GLCE</td>\n",
       "      <td>25.5</td>\n",
       "      <td>230ts 380cst</td>\n",
       "      <td>230.0</td>\n",
       "      <td>380.0</td>\n",
       "      <td>...</td>\n",
       "      <td>36.0</td>\n",
       "      <td>NaN</td>\n",
       "      <td>months</td>\n",
       "      <td>MIDDLE EAST/E. AFRICA/S. AFRICA TRADE</td>\n",
       "      <td>MSC</td>\n",
       "      <td>USD</td>\n",
       "      <td>33000</td>\n",
       "      <td>/day average</td>\n",
       "      <td>2021-05-01 00:00:00</td>\n",
       "      <td>NaN</td>\n",
       "    </tr>\n",
       "  </tbody>\n",
       "</table>\n",
       "<p>5 rows × 23 columns</p>\n",
       "</div>"
      ],
      "text/plain": [
       "           ship_name  ship_production_year   TEU  TEU@14     DWT type_of_ship  \\\n",
       "0     Seamax Niantic                2014.0  9034    7400  111890         GLCE   \n",
       "1  Northern Jamboree                2010.0  8814    6923  108828         GLCE   \n",
       "2   Northern Javelin                2009.0  8814    6923  108677         GLCE   \n",
       "3   Northern Jubilee                2009.0  8814    6923  108500         GLCE   \n",
       "4        MSC Alessia                2001.0  6732    5150   84920         GLCE   \n",
       "\n",
       "   speed(in kn)    speed_note  speed_note_main (ts)  speed_note_main (cst)  \\\n",
       "0          22.0       124.9ts                 124.9                    NaN   \n",
       "1          24.0         217ts                 217.0                    NaN   \n",
       "2          25.4         249ts                 249.0                    NaN   \n",
       "3          23.0         192ts                 192.0                    NaN   \n",
       "4          25.5  230ts 380cst                 230.0                  380.0   \n",
       "\n",
       "   ...  min_reaching_time  max_reaching_time unit_of_period  \\\n",
       "0  ...               60.0                NaN         months   \n",
       "1  ...               48.0                NaN         months   \n",
       "2  ...               48.0                NaN         months   \n",
       "3  ...               48.0                NaN         months   \n",
       "4  ...               36.0                NaN         months   \n",
       "\n",
       "                                    name_of_trade  account_name currency  \\\n",
       "0                                       TBA TRADE           ZIM      USD   \n",
       "1               FAR EAST/W.C. NORTH AMERICA TRADE           MSC      USD   \n",
       "2  CONTINENT/FAR EAST/AUSTRALIA/NEW ZEALAND TRADE           MSC      USD   \n",
       "3           EUROPE/MIDDLE EAST/INDIAN OCEAN TRADE           MSC      USD   \n",
       "4           MIDDLE EAST/E. AFRICA/S. AFRICA TRADE           MSC      USD   \n",
       "\n",
       "  amount_of_money note_on_money       scheduled_date  additional_notes  \n",
       "0           55000     about/day  2021-05-01 00:00:00               NaN  \n",
       "1           45000     about/day  2021-06-01 00:00:00               NaN  \n",
       "2           45000     about/day  2021-05-01 00:00:00               NaN  \n",
       "3           45000     about/day  2021-08-01 00:00:00               NaN  \n",
       "4           33000  /day average  2021-05-01 00:00:00               NaN  \n",
       "\n",
       "[5 rows x 23 columns]"
      ]
     },
     "execution_count": 18,
     "metadata": {},
     "output_type": "execute_result"
    }
   ],
   "source": [
    "data.info()\n",
    "data.head()"
   ]
  },
  {
   "cell_type": "code",
   "execution_count": 20,
   "id": "88f7332c",
   "metadata": {},
   "outputs": [],
   "source": [
    "# finally, we export the resulted table into excel file\n",
    "\n",
    "data.to_excel('C:\\\\Users\\\\Admin\\\\Downloads\\\\MentzDecker_modified.xlsx')"
   ]
  },
  {
   "cell_type": "markdown",
   "id": "5fa29099",
   "metadata": {},
   "source": [
    "## Further modifications:"
   ]
  },
  {
   "cell_type": "markdown",
   "id": "36c0654b",
   "metadata": {},
   "source": [
    "All the above procedures are done as a first step of data analysis via converting into standard structure. However, many proceeding steps are needed to come up with useful insights.  \n",
    "   \n",
    "Therefore, I considere the above steps as one part of data cleaning."
   ]
  }
 ],
 "metadata": {
  "kernelspec": {
   "display_name": "Python 3",
   "language": "python",
   "name": "python3"
  },
  "language_info": {
   "codemirror_mode": {
    "name": "ipython",
    "version": 3
   },
   "file_extension": ".py",
   "mimetype": "text/x-python",
   "name": "python",
   "nbconvert_exporter": "python",
   "pygments_lexer": "ipython3",
   "version": "3.8.8"
  }
 },
 "nbformat": 4,
 "nbformat_minor": 5
}
